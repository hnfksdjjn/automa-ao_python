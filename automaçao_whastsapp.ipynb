{
 "cells": [
  {
   "cell_type": "code",
   "execution_count": 1,
   "metadata": {},
   "outputs": [],
   "source": [
    "import time\n",
    "import pyautogui\n",
    "import tkinter.messagebox as messagebox\n",
    "import tkinter as tk\n",
    "from tkinter import filedialog\n",
    "import openpyxl\n",
    "import pandas as pd\n",
    "import itertools\n"
   ]
  },
  {
   "cell_type": "code",
   "execution_count": null,
   "metadata": {},
   "outputs": [],
   "source": [
    "def carregar_base_dados():\n",
    "    # Abrir a caixa de diálogo de seleção de arquivo\n",
    "    caminho_arquivo = filedialog.askopenfilename(filetypes=[(\"Arquivos Excel\", \"*.xlsx\")])\n",
    "\n",
    "    # Ler o arquivo Excel\n",
    "    dados = openpyxl.load_workbook(caminho_arquivo)\n",
    "\n",
    "    # Obter a primeira planilha\n",
    "    primeira_planilha = dados.active\n",
    "\n",
    "    # Obter os nomes das colunas da primeira linha\n",
    "    nomes_colunas = list(primeira_planilha.values)[0]  # Acessa a primeira linha da planilha\n",
    "\n",
    "    # Criar um DataFrame\n",
    "    dados_formatados = pd.DataFrame(list(itertools.islice(primeira_planilha.values, 1, None)), columns=nomes_colunas)  # Começa a partir da segunda linha\n",
    "\n",
    "    return dados_formatados\n",
    "\n",
    "contato = carregar_base_dados()\n",
    "\n",
    "print(contato)\n"
   ]
  },
  {
   "cell_type": "code",
   "execution_count": null,
   "metadata": {},
   "outputs": [],
   "source": [
    "# codigo para enviar mensagem para os contatos baixados na planilha do excel baixada\n",
    "\n",
    "import time\n",
    "import pyautogui\n",
    "\n",
    "pyautogui.press('win')\n",
    "time.sleep(1)\n",
    "pyautogui.write('whatsapp')\n",
    "time.sleep(1)\n",
    "pyautogui.press('enter')\n",
    "time.sleep(5)\n",
    "\n",
    "for i, mensagem in enumerate(contato['Mensagem']):\n",
    "    # Obter o nome da pessoa\n",
    "    pessoa = contato.loc[i, 'Nome']\n",
    "\n",
    "    # Digitar o nome da pessoa\n",
    "    pyautogui.write(f\"{pessoa}\")\n",
    "    time.sleep(2)\n",
    "\n",
    "    # Clicar no botão \"Abrir\"\n",
    "    pyautogui.moveTo(192, 172)\n",
    "    time.sleep(1)\n",
    "    pyautogui.click(x=192, y=172)\n",
    "    time.sleep(3)\n",
    "\n",
    "    # Digitar a mensagem\n",
    "    pyautogui.write(f\"{mensagem}\")\n",
    "    time.sleep(2)\n",
    "\n",
    "    # Pressionar a tecla \"Enter\"\n",
    "    pyautogui.press(\"enter\")\n",
    "    time.sleep(5)\n",
    "    pyautogui.moveTo(x=140, y=115)\n",
    "    time.sleep(3)\n",
    "    pyautogui.click(x=140, y=115)\n",
    "    time.sleep(2)\n",
    "    continue\n",
    "\n",
    "pyautogui.alert(\"Saindo do loop\")\n"
   ]
  },
  {
   "cell_type": "code",
   "execution_count": 19,
   "metadata": {},
   "outputs": [],
   "source": [
    "# manda mensagem automatica\n",
    "\n",
    "pyautogui.press(\"win\")\n",
    "time.sleep(2)\n",
    "pyautogui.write(\"WhatsAPP\")\n",
    "time.sleep(2)\n",
    "pyautogui.press(\"enter\")\n",
    "time.sleep(2)\n",
    "pyautogui.write(\"pipiu\")\n",
    "time.sleep(2)\n",
    "pyautogui.moveTo(192, 172)\n",
    "time.sleep(1)\n",
    "pyautogui.click(x=192, y=172)\n",
    "time.sleep(3)\n",
    "pyautogui.moveTo(629, 906)\n",
    "time.sleep(1)\n",
    "pyautogui.click(x=629, y=906)\n",
    "time.sleep(3)\n",
    "pyautogui.write(\"vai joga domingo mas nos\")\n",
    "time.sleep(2)\n",
    "pyautogui.press(\"enter\")\n",
    "time.sleep(5)\n"
   ]
  },
  {
   "cell_type": "code",
   "execution_count": 6,
   "metadata": {},
   "outputs": [],
   "source": [
    "# fazer uma chamada de voz automatica\n",
    "\n",
    "pyautogui.press(\"win\")\n",
    "time.sleep(2)\n",
    "pyautogui.write(\"WhatsAPP\")\n",
    "time.sleep(2)\n",
    "pyautogui.press(\"enter\")\n",
    "time.sleep(2)\n",
    "pyautogui.write(\"lailton\")\n",
    "time.sleep(2)\n",
    "pyautogui.moveTo(192, 172)\n",
    "time.sleep(1)\n",
    "pyautogui.click(x=192, y=172)\n",
    "time.sleep(3)\n",
    "pyautogui.moveTo(1112, 73)\n",
    "time.sleep(1)\n",
    "pyautogui.click(x=1112, y=73)\n",
    "time.sleep(8)\n",
    "def continua():\n",
    "    resposta = messagebox.askquestion(\"Deseja continuar?/nescolha sim ou nao\", icon=\"question\")\n",
    "    return resposta == \"yes\"\n",
    "while continua():\n",
    "    pyautogui.moveTo(x=549, y=731)\n",
    "    time.sleep(1)\n",
    "    pyautogui.click(x=1112, y=73)\n",
    "\n",
    "    if not continua():\n",
    "        break"
   ]
  },
  {
   "cell_type": "code",
   "execution_count": 3,
   "metadata": {},
   "outputs": [],
   "source": [
    "#fazer uma chamada de video automatica\n",
    "\n",
    "\n",
    "pyautogui.press(\"win\")\n",
    "time.sleep(2)\n",
    "pyautogui.write(\"WhatsAPP\")\n",
    "time.sleep(2)\n",
    "pyautogui.press(\"enter\")\n",
    "time.sleep(2)\n",
    "pyautogui.write(\"Tico\")\n",
    "time.sleep(2)\n",
    "pyautogui.moveTo(192, 172)\n",
    "time.sleep(1)\n",
    "pyautogui.click(x=192, y=172)\n",
    "time.sleep(3)\n",
    "pyautogui.moveTo(1050, 79)\n",
    "time.sleep(1)\n",
    "pyautogui.click(x=1050, y=79)\n",
    "time.sleep(20)"
   ]
  },
  {
   "cell_type": "code",
   "execution_count": null,
   "metadata": {},
   "outputs": [],
   "source": []
  },
  {
   "cell_type": "code",
   "execution_count": 24,
   "metadata": {},
   "outputs": [
    {
     "data": {
      "text/plain": [
       "Point(x=1175, y=0)"
      ]
     },
     "execution_count": 24,
     "metadata": {},
     "output_type": "execute_result"
    }
   ],
   "source": [
    "import pyautogui\n",
    "time.sleep(9)\n",
    "pyautogui.position()"
   ]
  }
 ],
 "metadata": {
  "kernelspec": {
   "display_name": "Python 3",
   "language": "python",
   "name": "python3"
  },
  "language_info": {
   "codemirror_mode": {
    "name": "ipython",
    "version": 3
   },
   "file_extension": ".py",
   "mimetype": "text/x-python",
   "name": "python",
   "nbconvert_exporter": "python",
   "pygments_lexer": "ipython3",
   "version": "3.12.0"
  }
 },
 "nbformat": 4,
 "nbformat_minor": 2
}
