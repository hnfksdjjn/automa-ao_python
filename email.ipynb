{
 "cells": [
  {
   "cell_type": "code",
   "execution_count": null,
   "metadata": {},
   "outputs": [],
   "source": [
    "import smtplib\n",
    "import email.message\n",
    "\n",
    "def enviar_email():\n",
    "    corpo = \"\"\" \n",
    "    <p>Ei chefe fiz uma transferencia errada e caiu na sua conta o valor de R$111,00 tem como voce mim devolver </p>\n",
    "    <p>stou precisando muito essa e a minha chave pix \"edson25silva@outlook.pt\" conto com a sua solidariedade</p>\n",
    "    \"\"\"\n",
    "    \n",
    "    msg = email.message.Message()\n",
    "    msg['Subject'] = \"Assunto\"\n",
    "    msg['from'] = 'essim25silva@gmail.com'\n",
    "    msg['To'] = 'edson25silva@gmail.com'\n",
    "    password = 'vcqglqgqxkcjctvr'\n",
    "    msg.add_header('Content-Type', 'text/html')\n",
    "    msg.set_payload(corpo)\n",
    "    \n",
    "    s = smtplib.SMTP('smtp.gmail.com', 587)\n",
    "    s.starttls()\n",
    "    s.login(msg['from'], password)\n",
    "    s.sendmail(msg['from'], [msg['To']], msg.as_string().encode('utf-8'))\n",
    "    print('email enviado!')\n",
    "    \n",
    "enviar_email()"
   ]
  },
  {
   "cell_type": "code",
   "execution_count": 2,
   "metadata": {},
   "outputs": [
    {
     "name": "stdout",
     "output_type": "stream",
     "text": [
      "Email enviado para: edson25silva@gmail.com\n",
      "Email enviado para: edson25silva@gmail.com\n"
     ]
    }
   ],
   "source": [
    "import smtplib\n",
    "import email.message\n",
    "\n",
    "def enviar_email(destinatario):\n",
    "    corpo = \"\"\" \n",
    "    <p>Ei chefe fiz uma transferencia errada e caiu na sua conta o valor de R$111,00 tem como voce mim devolver </p>\n",
    "    <p>stou precisando muito essa e a minha chave pix \"edson25silva@outlook.pt\" conto com a sua solidariedade</p>\n",
    "    \"\"\"\n",
    "    \n",
    "    msg = email.message.Message()\n",
    "    msg['Subject'] = \"Assunto\"\n",
    "    msg['From'] = 'essim25silva@gmail.com'\n",
    "    msg['To'] = destinatario\n",
    "    password = 'vcqglqgqxkcjctvr'\n",
    "    msg.add_header('Content-Type', 'text/html')\n",
    "    msg.set_payload(corpo)\n",
    "    \n",
    "    s = smtplib.SMTP('smtp.gmail.com', 587)\n",
    "    s.starttls()\n",
    "    s.login(msg['From'], password)\n",
    "    s.sendmail(msg['From'], [msg['To']], msg.as_string().encode('utf-8'))\n",
    "    print('Email enviado para:', destinatario)\n",
    "\n",
    "# Loop para enviar até 100 emails\n",
    "for i in range(1, 3):\n",
    "    destinatario = f'edson25silva@gmail.com'\n",
    "    enviar_email(destinatario)\n"
   ]
  }
 ],
 "metadata": {
  "kernelspec": {
   "display_name": "Python 3",
   "language": "python",
   "name": "python3"
  },
  "language_info": {
   "codemirror_mode": {
    "name": "ipython",
    "version": 3
   },
   "file_extension": ".py",
   "mimetype": "text/x-python",
   "name": "python",
   "nbconvert_exporter": "python",
   "pygments_lexer": "ipython3",
   "version": "3.12.0"
  }
 },
 "nbformat": 4,
 "nbformat_minor": 2
}
